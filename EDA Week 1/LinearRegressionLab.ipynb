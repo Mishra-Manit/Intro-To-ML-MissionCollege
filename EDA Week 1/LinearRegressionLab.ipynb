{
 "cells": [
  {
   "cell_type": "code",
   "execution_count": 2,
   "metadata": {},
   "outputs": [],
   "source": [
    "'''\n",
    "@author: Manit Mishra\n",
    "updated 6/17/2023 working with python 3.11\n",
    "CIS051\n",
    "\n",
    "The data in this dataset is from the U.S. Census survey around the housing area around Boston MA:\n",
    "CRIM - per capita crime rate by town, range from \n",
    "ZN - proportion of residential land zoned for lots over 25,000 sq.ft., range from \n",
    "INDUS - proportion of non-retail business acres per town., range from \n",
    "CHAS - Charles River dummy variable (1 if tract bounds river; 0 otherwise), range from \n",
    "NOX - nitric oxides concentration (parts per 10 million), range from \n",
    "RM - average number of rooms per dwelling, range from \n",
    "AGE - proportion of owner-occupied units built prior to 1940, range from \n",
    "DIS - weighted distances to five Boston employment centres, range from \n",
    "RAD - index of accessibility to radial highways, range from \n",
    "TAX - full-value property-tax rate per $10,000, range from \n",
    "PTRATIO - pupil-teacher ratio by town, range from\n",
    "BLACK - 1000(Bk - 0.63)^2 where Bk is the proportion of blacks by town, range from\n",
    "LSTAT - % lower status of the population, range from\n",
    "MEDV - Median value of owner-occupied homes in $1000's, range from \n",
    "'''\n",
    "\n",
    "import pandas as pd\n",
    "import matplotlib.pyplot as plt\n",
    "from pandas import set_option\n",
    "from pandas import read_csv\n",
    "from sklearn.preprocessing import StandardScaler\n",
    "from sklearn.preprocessing import MinMaxScaler\n",
    "from sklearn.preprocessing import Normalizer\n",
    "from numpy import set_printoptions\n",
    "import seaborn as sns\n",
    "from pandas.plotting import scatter_matrix\n",
    "from sklearn.linear_model import LinearRegression\n",
    "from sklearn.feature_selection import RFE\n",
    "\n",
    "filePath = 'C:/Users/manit/Desktop/Intro to ML Mission College/EDA Week 1/'\n",
    "filename = 'boston.csv'\n",
    "data = read_csv(filePath+filename)\n",
    "names = ['CRIM','ZN','INDUS','CHAS','NOX','RM','AGE','DIS','RAD','RH','TAX','PTRATIO','BLACK','LSTAT','MEDV']\n",
    "\n",
    "data1 = data.drop(data.columns[0], axis=1) \n",
    "# save features as pandas dataframe for stepwise feature selection\n",
    "X1 = data1.drop(data1.columns[13], axis = 1)\n",
    "Y1 = data1.drop(data1.columns[0:13], axis = 1)\n",
    "\n",
    "array = data1.values\n",
    "X = array[:,0:13]\n",
    "Y = array[:,13]\n",
    "\n",
    "X1names = X1.columns\n",
    "\n",
    "peek = data1.head(20)\n",
    "#print(peek)"
   ]
  },
  {
   "cell_type": "code",
   "execution_count": 30,
   "metadata": {},
   "outputs": [
    {
     "name": "stdout",
     "output_type": "stream",
     "text": [
      "             crim          zn       indus        chas         nox          rm         age  \\\n",
      "count  506.000000  506.000000  506.000000  506.000000  506.000000  506.000000  506.000000   \n",
      "mean     3.613524   11.363636   11.136779    0.069170    0.554695    6.284634   68.574901   \n",
      "std      8.601545   23.322453    6.860353    0.253994    0.115878    0.702617   28.148861   \n",
      "min      0.006320    0.000000    0.460000    0.000000    0.385000    3.561000    2.900000   \n",
      "25%      0.082045    0.000000    5.190000    0.000000    0.449000    5.885500   45.025000   \n",
      "50%      0.256510    0.000000    9.690000    0.000000    0.538000    6.208500   77.500000   \n",
      "75%      3.677083   12.500000   18.100000    0.000000    0.624000    6.623500   94.075000   \n",
      "max     88.976200  100.000000   27.740000    1.000000    0.871000    8.780000  100.000000   \n",
      "\n",
      "              dis         rad         tax     ptratio       black       lstat        medv  \n",
      "count  506.000000  506.000000  506.000000  506.000000  506.000000  506.000000  506.000000  \n",
      "mean     3.795043    9.549407  408.237154   18.455534  356.674032   12.653063   22.532806  \n",
      "std      2.105710    8.707259  168.537116    2.164946   91.294864    7.141062    9.197104  \n",
      "min      1.129600    1.000000  187.000000   12.600000    0.320000    1.730000    5.000000  \n",
      "25%      2.100175    4.000000  279.000000   17.400000  375.377500    6.950000   17.025000  \n",
      "50%      3.207450    5.000000  330.000000   19.050000  391.440000   11.360000   21.200000  \n",
      "75%      5.188425   24.000000  666.000000   20.200000  396.225000   16.955000   25.000000  \n",
      "max     12.126500   24.000000  711.000000   22.000000  396.900000   37.970000   50.000000  \n"
     ]
    }
   ],
   "source": [
    "set_option('display.width', 100)\n",
    "description = data1.describe()\n",
    "print(description)"
   ]
  },
  {
   "cell_type": "code",
   "execution_count": 31,
   "metadata": {},
   "outputs": [
    {
     "data": {
      "text/plain": [
       "<Figure size 432x288 with 0 Axes>"
      ]
     },
     "metadata": {},
     "output_type": "display_data"
    },
    {
     "data": {
      "image/png": "[encoded data removed]",
      "text/plain": [
       "<Figure size 432x288 with 16 Axes>"
      ]
     },
     "metadata": {
      "needs_background": "light"
     },
     "output_type": "display_data"
    }
   ],
   "source": [
    "plt.figure() # new plot\n",
    "data1.hist()\n",
    "plt.show()"
   ]
  },
  {
   "cell_type": "code",
   "execution_count": 36,
   "metadata": {},
   "outputs": [
    {
     "name": "stdout",
     "output_type": "stream",
     "text": [
      "Num Features: 6\n",
      "Selected Features: [False False False  True  True  True False  True False False  True False\n",
      "  True]\n",
      "Feature Ranking: [3 5 4 1 1 1 8 1 2 6 1 7 1]\n",
      "Model Score with selected features is:  0.7157742117396082\n"
     ]
    }
   ],
   "source": [
    "NUM_FEATURES = 6 # this is kind of arbitrary but you should get an idea by observing the scatter plots and correlation.\n",
    "\n",
    "#14 gave 0.7406\n",
    "#13 gave 0.7406\n",
    "#12 gave 0.7406\n",
    "#11 gave 0.734267\n",
    "#10 gave 0.72829\n",
    "#9 gave 0.724344\n",
    "#8 gave 0.7232588\n",
    "#7 gave 0.717145\n",
    "#6 gave 0.71577\n",
    "#5 gave 0.6336\n",
    "\n",
    "model = LinearRegression()\n",
    "rfe = RFE(estimator=model, n_features_to_select=NUM_FEATURES)\n",
    "fit = rfe.fit(X, Y)\n",
    "print(\"Num Features:\", fit.n_features_)\n",
    "print(\"Selected Features:\", fit.support_)\n",
    "print(\"Feature Ranking:\", fit.ranking_)\n",
    "# calculate the score for the selected features\n",
    "score = rfe.score(X,Y)\n",
    "print(\"Model Score with selected features is: \", score)"
   ]
  },
  {
   "cell_type": "code",
   "execution_count": 26,
   "metadata": {},
   "outputs": [
    {
     "name": "stdout",
     "output_type": "stream",
     "text": [
      "[[-0.42   0.285 -1.288 -0.273 -0.144  0.414 -0.12   0.14  -0.983 -0.667\n",
      "  -1.459  0.441 -1.076]\n",
      " [-0.417 -0.488 -0.593 -0.273 -0.74   0.194  0.367  0.557 -0.868 -0.987\n",
      "  -0.303  0.441 -0.492]\n",
      " [-0.417 -0.488 -0.593 -0.273 -0.74   1.283 -0.266  0.557 -0.868 -0.987\n",
      "  -0.303  0.396 -1.209]\n",
      " [-0.417 -0.488 -1.307 -0.273 -0.835  1.016 -0.81   1.078 -0.753 -1.106\n",
      "   0.113  0.416 -1.362]\n",
      " [-0.412 -0.488 -1.307 -0.273 -0.835  1.229 -0.511  1.078 -0.753 -1.106\n",
      "   0.113  0.441 -1.027]]\n"
     ]
    }
   ],
   "source": [
    "scaler1 = StandardScaler().fit(X1)\n",
    "rescaledX1 = scaler1.transform(X1)\n",
    "\n",
    "set_printoptions(precision=3)\n",
    "print(rescaledX1[0:5,:])"
   ]
  },
  {
   "cell_type": "code",
   "execution_count": 27,
   "metadata": {},
   "outputs": [
    {
     "name": "stdout",
     "output_type": "stream",
     "text": [
      "[[1.26388e-05 3.59967e-02 4.61957e-03 0.00000e+00 1.07590e-03 1.31488e-02\n",
      "  1.30388e-01 8.17925e-03 1.99982e-03 5.91945e-01 3.05972e-02 7.93727e-01\n",
      "  9.95908e-03]\n",
      " [5.78530e-05 0.00000e+00 1.49770e-02 0.00000e+00 9.93521e-04 1.36021e-02\n",
      "  1.67140e-01 1.05222e-02 4.23676e-03 5.12648e-01 3.77072e-02 8.40785e-01\n",
      "  1.93620e-02]\n",
      " [5.85730e-05 0.00000e+00 1.51745e-02 0.00000e+00 1.00662e-03 1.54213e-02\n",
      "  1.31140e-01 1.06610e-02 4.29263e-03 5.19409e-01 3.82044e-02 8.43138e-01\n",
      "  8.64966e-03]\n",
      " [7.10490e-05 0.00000e+00 4.78489e-03 0.00000e+00 1.00527e-03 1.53599e-02\n",
      "  1.00527e-01 1.33059e-02 6.58471e-03 4.87268e-01 4.10447e-02 8.66174e-01\n",
      "  6.45301e-03]\n",
      " [1.50597e-04 0.00000e+00 4.75453e-03 0.00000e+00 9.98888e-04 1.55875e-02\n",
      "  1.18209e-01 1.32215e-02 6.54294e-03 4.84177e-01 4.07843e-02 8.65631e-01\n",
      "  1.16246e-02]]\n"
     ]
    }
   ],
   "source": [
    "scaler = Normalizer().fit(X1)\n",
    "normalizedX = scaler.transform(X1)\n",
    "# summarize transformed data\n",
    "set_printoptions(precision=5)\n",
    "print(normalizedX[0:5,:])\n"
   ]
  },
  {
   "cell_type": "code",
   "execution_count": 37,
   "metadata": {},
   "outputs": [
    {
     "name": "stdout",
     "output_type": "stream",
     "text": [
      "[[0.00000e+00 1.80000e-01 6.78152e-02 0.00000e+00 3.14815e-01 5.77505e-01\n",
      "  6.41607e-01 2.69203e-01 0.00000e+00 2.08015e-01 2.87234e-01 1.00000e+00\n",
      "  8.96799e-02]\n",
      " [2.35923e-04 0.00000e+00 2.42302e-01 0.00000e+00 1.72840e-01 5.47998e-01\n",
      "  7.82698e-01 3.48962e-01 4.34783e-02 1.04962e-01 5.53191e-01 1.00000e+00\n",
      "  2.04470e-01]\n",
      " [2.35698e-04 0.00000e+00 2.42302e-01 0.00000e+00 1.72840e-01 6.94386e-01\n",
      "  5.99382e-01 3.48962e-01 4.34783e-02 1.04962e-01 5.53191e-01 9.89737e-01\n",
      "  6.34658e-02]\n",
      " [2.92796e-04 0.00000e+00 6.30499e-02 0.00000e+00 1.50206e-01 6.58555e-01\n",
      "  4.41813e-01 4.48545e-01 8.69565e-02 6.67939e-02 6.48936e-01 9.94276e-01\n",
      "  3.33885e-02]\n",
      " [7.05070e-04 0.00000e+00 6.30499e-02 0.00000e+00 1.50206e-01 6.87105e-01\n",
      "  5.28321e-01 4.48545e-01 8.69565e-02 6.67939e-02 6.48936e-01 1.00000e+00\n",
      "  9.93377e-02]]\n"
     ]
    }
   ],
   "source": [
    "scaler2 = MinMaxScaler().fit(X1)\n",
    "normalizedX2 = scaler2.transform(X1)\n",
    "# summarize transformed data\n",
    "set_printoptions(precision=5)\n",
    "print(normalizedX2[0:5,:])"
   ]
  },
  {
   "cell_type": "code",
   "execution_count": 6,
   "metadata": {},
   "outputs": [
    {
     "name": "stdout",
     "output_type": "stream",
     "text": [
      "               crim            zn         indus          chas           nox            rm           age  \\\n",
      "count  5.060000e+02  5.060000e+02  5.060000e+02  5.060000e+02  5.060000e+02  5.060000e+02  5.060000e+02   \n",
      "mean  -1.123388e-16  7.898820e-17  2.106352e-16 -3.510587e-17 -1.965929e-16 -1.088282e-16 -1.474446e-16   \n",
      "std    1.000990e+00  1.000990e+00  1.000990e+00  1.000990e+00  1.000990e+00  1.000990e+00  1.000990e+00   \n",
      "min   -4.197819e-01 -4.877224e-01 -1.557842e+00 -2.725986e-01 -1.465882e+00 -3.880249e+00 -2.335437e+00   \n",
      "25%   -4.109696e-01 -4.877224e-01 -8.676906e-01 -2.725986e-01 -9.130288e-01 -5.686303e-01 -8.374480e-01   \n",
      "50%   -3.906665e-01 -4.877224e-01 -2.110985e-01 -2.725986e-01 -1.442174e-01 -1.084655e-01  3.173816e-01   \n",
      "75%    7.396560e-03  4.877224e-02  1.015999e+00 -2.725986e-01  5.986790e-01  4.827678e-01  9.067981e-01   \n",
      "max    9.933931e+00  3.804234e+00  2.422565e+00  3.668398e+00  2.732346e+00  3.555044e+00  1.117494e+00   \n",
      "\n",
      "                dis           rad         tax       ptratio         black         lstat  \n",
      "count  5.060000e+02  5.060000e+02  506.000000  5.060000e+02  5.060000e+02  5.060000e+02  \n",
      "mean  -8.425408e-17 -1.123388e-16    0.000000 -4.212704e-16 -7.442444e-16 -3.089316e-16  \n",
      "std    1.000990e+00  1.000990e+00    1.000990  1.000990e+00  1.000990e+00  1.000990e+00  \n",
      "min   -1.267069e+00 -9.828429e-01   -1.313990 -2.707379e+00 -3.907193e+00 -1.531127e+00  \n",
      "25%   -8.056878e-01 -6.379618e-01   -0.767576 -4.880391e-01  2.050715e-01 -7.994200e-01  \n",
      "50%   -2.793234e-01 -5.230014e-01   -0.464673  2.748590e-01  3.811865e-01 -1.812536e-01  \n",
      "75%    6.623709e-01  1.661245e+00    1.530926  8.065758e-01  4.336510e-01  6.030188e-01  \n",
      "max    3.960518e+00  1.661245e+00    1.798194  1.638828e+00  4.410519e-01  3.548771e+00  \n"
     ]
    }
   ],
   "source": [
    "dataNormDf = pd.DataFrame(rescaledX1, columns = X1names)\n",
    "\n",
    "set_option('display.width', 110)\n",
    "#set_option('precision', 1)\n",
    "descriptionNorm = dataNormDf.describe()\n",
    "print(descriptionNorm)"
   ]
  },
  {
   "cell_type": "code",
   "execution_count": 7,
   "metadata": {},
   "outputs": [
    {
     "data": {
      "image/png": "[encoded data removed]",
      "text/plain": [
       "<Figure size 432x288 with 16 Axes>"
      ]
     },
     "metadata": {
      "needs_background": "light"
     },
     "output_type": "display_data"
    }
   ],
   "source": [
    "# we look at the distribution of data and its descriptive statistics\n",
    "dataNormDf.hist()\n",
    "plt.show()"
   ]
  },
  {
   "cell_type": "code",
   "execution_count": 8,
   "metadata": {},
   "outputs": [],
   "source": [
    "array = dataNormDf.values\n",
    "Xs = array[:,0:12]\n",
    "Ys = array[:,12]"
   ]
  },
  {
   "cell_type": "code",
   "execution_count": 9,
   "metadata": {},
   "outputs": [
    {
     "name": "stdout",
     "output_type": "stream",
     "text": [
      "Num Features: 5\n",
      "Selected Features: [ True False  True False False  True  True False False False False  True]\n",
      "Feature Ranking: [1 6 1 5 2 1 1 3 4 8 7 1]\n",
      "Model Score with selected features is:  0.653435327732836\n"
     ]
    }
   ],
   "source": [
    "NUM_FEATURES = 5\n",
    "\n",
    "model = LinearRegression()\n",
    "rfe = RFE(estimator=model, n_features_to_select=NUM_FEATURES)\n",
    "fit = rfe.fit(Xs, Ys)\n",
    "print(\"Num Features:\", fit.n_features_)\n",
    "print(\"Selected Features:\", fit.support_)\n",
    "print(\"Feature Ranking:\", fit.ranking_)\n",
    "# calculate the score for the selected features\n",
    "score = rfe.score(Xs,Ys)\n",
    "print(\"Model Score with selected features is: \", score)"
   ]
  },
  {
   "cell_type": "code",
   "execution_count": 10,
   "metadata": {},
   "outputs": [
    {
     "name": "stdout",
     "output_type": "stream",
     "text": [
      "             crim          zn       indus        chas         nox          rm         age         dis  \\\n",
      "count  506.000000  506.000000  506.000000  506.000000  506.000000  506.000000  506.000000  506.000000   \n",
      "mean     0.005070    0.022836    0.018804    0.000129    0.000989    0.011523    0.120675    0.007262   \n",
      "std      0.011670    0.046848    0.010685    0.000482    0.000189    0.002681    0.048439    0.004588   \n",
      "min      0.000013    0.000000    0.000963    0.000000    0.000660    0.004682    0.006431    0.001451   \n",
      "25%      0.000162    0.000000    0.010674    0.000000    0.000872    0.009432    0.086124    0.003299   \n",
      "50%      0.000496    0.000000    0.017226    0.000000    0.000969    0.011933    0.126160    0.006399   \n",
      "75%      0.005246    0.024618    0.023876    0.000000    0.001052    0.013348    0.156600    0.010758   \n",
      "max      0.113081    0.207644    0.061249    0.002371    0.002065    0.018156    0.237626    0.027624   \n",
      "\n",
      "              rad         tax     ptratio       black       lstat  \n",
      "count  506.000000  506.000000  506.000000  506.000000  506.000000  \n",
      "mean     0.014939    0.691128    0.033339    0.657738    0.021937  \n",
      "std      0.010745    0.151662    0.005958    0.210475    0.011306  \n",
      "min      0.001730    0.425977    0.024088    0.000475    0.003099  \n",
      "25%      0.007927    0.575121    0.027274    0.507016    0.013636  \n",
      "50%      0.010076    0.652112    0.033398    0.744946    0.020261  \n",
      "75%      0.030635    0.850908    0.037980    0.805234    0.027900  \n",
      "max      0.035798    0.993395    0.053097    0.890610    0.070063  \n"
     ]
    }
   ],
   "source": [
    "dataNormalDf = pd.DataFrame(normalizedX, columns = X1names)\n",
    "\n",
    "set_option('display.width', 110)\n",
    "#set_option('precision', 1)\n",
    "descriptionNormal = dataNormalDf.describe()\n",
    "print(descriptionNormal)"
   ]
  },
  {
   "cell_type": "code",
   "execution_count": 11,
   "metadata": {},
   "outputs": [
    {
     "data": {
      "image/png": "[encoded data removed]",
      "text/plain": [
       "<Figure size 432x288 with 16 Axes>"
      ]
     },
     "metadata": {
      "needs_background": "light"
     },
     "output_type": "display_data"
    }
   ],
   "source": [
    "# we look at the distribution of data and its descriptive statistics\n",
    "dataNormalDf.hist()\n",
    "plt.show()"
   ]
  },
  {
   "cell_type": "code",
   "execution_count": 12,
   "metadata": {},
   "outputs": [],
   "source": [
    "array1 = dataNormalDf.values\n",
    "Xn = array1[:,0:12]\n",
    "Yn = array1[:,12]"
   ]
  },
  {
   "cell_type": "code",
   "execution_count": 25,
   "metadata": {},
   "outputs": [
    {
     "name": "stdout",
     "output_type": "stream",
     "text": [
      "Num Features: 10\n",
      "Selected Features: [ True False  True  True  True  True  True  True  True  True  True False]\n",
      "Feature Ranking: [1 3 1 1 1 1 1 1 1 1 1 2]\n",
      "Model Score with selected features is:  0.5449253152326703\n"
     ]
    }
   ],
   "source": [
    "NUM_FEATURES = 10\n",
    "\n",
    "model = LinearRegression()\n",
    "rfe = RFE(estimator=model, n_features_to_select=NUM_FEATURES)\n",
    "fit = rfe.fit(Xn, Yn)\n",
    "print(\"Num Features:\", fit.n_features_)\n",
    "print(\"Selected Features:\", fit.support_)\n",
    "print(\"Feature Ranking:\", fit.ranking_)\n",
    "# calculate the score for the selected features\n",
    "score = rfe.score(Xn,Yn)\n",
    "print(\"Model Score with selected features is: \", score)"
   ]
  }
 ],
 "metadata": {
  "kernelspec": {
   "display_name": "Python 3",
   "language": "python",
   "name": "python3"
  },
  "language_info": {
   "codemirror_mode": {
    "name": "ipython",
    "version": 3
   },
   "file_extension": ".py",
   "mimetype": "text/x-python",
   "name": "python",
   "nbconvert_exporter": "python",
   "pygments_lexer": "ipython3",
   "version": "3.8.10"
  },
  "orig_nbformat": 4
 },
 "nbformat": 4,
 "nbformat_minor": 2
}
